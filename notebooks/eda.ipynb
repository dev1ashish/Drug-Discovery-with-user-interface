{
 "cells": [
  {
   "cell_type": "code",
   "execution_count": 13,
   "metadata": {},
   "outputs": [],
   "source": [
    "import numpy as np\n",
    "import pandas as pd\n",
    "from rdkit import Chem\n",
    "from rdkit.Chem import Descriptors, Lipinski"
   ]
  },
  {
   "cell_type": "markdown",
   "metadata": {},
   "source": [
    "Lipinski descriptors: \n",
    "A set of rules by scientists based on Absorption, Distribution, Metabolism, and Excretion (ADME). \n",
    "The rules are:\n",
    "1. Molecular weight < 500 Dalton.\n",
    "2. Octanol-water partition coefficient (LogP) < 5.\n",
    "3. Hydrogen bond donors < 5.\n",
    "4. Hydrogen bond acceptors < 10.\n"
   ]
  },
  {
   "cell_type": "markdown",
   "metadata": {},
   "source": [
    "Calculating descriptors"
   ]
  },
  {
   "cell_type": "code",
   "execution_count": 14,
   "metadata": {},
   "outputs": [],
   "source": [
    "# Inspired by: https://codeocean.com/explore/capsules?query=tag:data-curation\n",
    "\n",
    "def lipinski(smiles, verbose=False):\n",
    "\n",
    "    moldata= []\n",
    "    for elem in smiles:\n",
    "        mol=Chem.MolFromSmiles(elem) \n",
    "        moldata.append(mol)\n",
    "       \n",
    "    baseData= np.arange(1,1)\n",
    "    i=0  \n",
    "    for mol in moldata:        \n",
    "       \n",
    "        desc_MolWt = Descriptors.MolWt(mol)\n",
    "        desc_MolLogP = Descriptors.MolLogP(mol)\n",
    "        desc_NumHDonors = Lipinski.NumHDonors(mol)\n",
    "        desc_NumHAcceptors = Lipinski.NumHAcceptors(mol)\n",
    "           \n",
    "        row = np.array([desc_MolWt,\n",
    "                        desc_MolLogP,\n",
    "                        desc_NumHDonors,\n",
    "                        desc_NumHAcceptors])   \n",
    "    \n",
    "        if(i==0):\n",
    "            baseData=row\n",
    "        else:\n",
    "            baseData=np.vstack([baseData, row])\n",
    "        i=i+1      \n",
    "    \n",
    "    columnNames=[\"MW\",\"LogP\",\"NumHDonors\",\"NumHAcceptors\"]   \n",
    "    descriptors = pd.DataFrame(data=baseData,columns=columnNames)\n",
    "    \n",
    "    return descriptors"
   ]
  },
  {
   "cell_type": "code",
   "execution_count": 15,
   "metadata": {},
   "outputs": [],
   "source": [
    "df=pd.read_csv('C:\\\\Users\\\\HP\\\\OneDrive\\\\Documents\\\\VSCode\\\\drug_discovery\\\\bioinformatics\\\\datasets\\\\coronavirus_preprocessed.csv')\n"
   ]
  },
  {
   "cell_type": "code",
   "execution_count": 16,
   "metadata": {},
   "outputs": [
    {
     "data": {
      "text/html": [
       "<div>\n",
       "<style scoped>\n",
       "    .dataframe tbody tr th:only-of-type {\n",
       "        vertical-align: middle;\n",
       "    }\n",
       "\n",
       "    .dataframe tbody tr th {\n",
       "        vertical-align: top;\n",
       "    }\n",
       "\n",
       "    .dataframe thead th {\n",
       "        text-align: right;\n",
       "    }\n",
       "</style>\n",
       "<table border=\"1\" class=\"dataframe\">\n",
       "  <thead>\n",
       "    <tr style=\"text-align: right;\">\n",
       "      <th></th>\n",
       "      <th>molecule_chembl_id</th>\n",
       "      <th>canonical_smiles</th>\n",
       "      <th>standard_value</th>\n",
       "      <th>bioactivity_class</th>\n",
       "    </tr>\n",
       "  </thead>\n",
       "  <tbody>\n",
       "    <tr>\n",
       "      <th>0</th>\n",
       "      <td>CHEMBL187579</td>\n",
       "      <td>Cc1noc(C)c1CN1C(=O)C(=O)c2cc(C#N)ccc21</td>\n",
       "      <td>7200.0</td>\n",
       "      <td>intermediate</td>\n",
       "    </tr>\n",
       "    <tr>\n",
       "      <th>1</th>\n",
       "      <td>CHEMBL188487</td>\n",
       "      <td>O=C1C(=O)N(Cc2ccc(F)cc2Cl)c2ccc(I)cc21</td>\n",
       "      <td>9400.0</td>\n",
       "      <td>intermediate</td>\n",
       "    </tr>\n",
       "    <tr>\n",
       "      <th>2</th>\n",
       "      <td>CHEMBL185698</td>\n",
       "      <td>O=C1C(=O)N(CC2COc3ccccc3O2)c2ccc(I)cc21</td>\n",
       "      <td>13500.0</td>\n",
       "      <td>inactive</td>\n",
       "    </tr>\n",
       "    <tr>\n",
       "      <th>3</th>\n",
       "      <td>CHEMBL426082</td>\n",
       "      <td>O=C1C(=O)N(Cc2cc3ccccc3s2)c2ccccc21</td>\n",
       "      <td>13110.0</td>\n",
       "      <td>inactive</td>\n",
       "    </tr>\n",
       "    <tr>\n",
       "      <th>4</th>\n",
       "      <td>CHEMBL187717</td>\n",
       "      <td>O=C1C(=O)N(Cc2cc3ccccc3s2)c2c1cccc2[N+](=O)[O-]</td>\n",
       "      <td>2000.0</td>\n",
       "      <td>intermediate</td>\n",
       "    </tr>\n",
       "    <tr>\n",
       "      <th>...</th>\n",
       "      <td>...</td>\n",
       "      <td>...</td>\n",
       "      <td>...</td>\n",
       "      <td>...</td>\n",
       "    </tr>\n",
       "    <tr>\n",
       "      <th>128</th>\n",
       "      <td>CHEMBL2146517</td>\n",
       "      <td>COC(=O)[C@@]1(C)CCCc2c1ccc1c2C(=O)C(=O)c2c(C)c...</td>\n",
       "      <td>10600.0</td>\n",
       "      <td>inactive</td>\n",
       "    </tr>\n",
       "    <tr>\n",
       "      <th>129</th>\n",
       "      <td>CHEMBL187460</td>\n",
       "      <td>C[C@H]1COC2=C1C(=O)C(=O)c1c2ccc2c1CCCC2(C)C</td>\n",
       "      <td>10100.0</td>\n",
       "      <td>inactive</td>\n",
       "    </tr>\n",
       "    <tr>\n",
       "      <th>130</th>\n",
       "      <td>CHEMBL363535</td>\n",
       "      <td>Cc1coc2c1C(=O)C(=O)c1c-2ccc2c(C)cccc12</td>\n",
       "      <td>11500.0</td>\n",
       "      <td>inactive</td>\n",
       "    </tr>\n",
       "    <tr>\n",
       "      <th>131</th>\n",
       "      <td>CHEMBL227075</td>\n",
       "      <td>Cc1cccc2c3c(ccc12)C1=C(C(=O)C3=O)[C@@H](C)CO1</td>\n",
       "      <td>10700.0</td>\n",
       "      <td>inactive</td>\n",
       "    </tr>\n",
       "    <tr>\n",
       "      <th>132</th>\n",
       "      <td>CHEMBL45830</td>\n",
       "      <td>CC(C)C1=Cc2ccc3c(c2C(=O)C1=O)CCCC3(C)C</td>\n",
       "      <td>78900.0</td>\n",
       "      <td>inactive</td>\n",
       "    </tr>\n",
       "  </tbody>\n",
       "</table>\n",
       "<p>133 rows × 4 columns</p>\n",
       "</div>"
      ],
      "text/plain": [
       "    molecule_chembl_id                                   canonical_smiles  \\\n",
       "0         CHEMBL187579             Cc1noc(C)c1CN1C(=O)C(=O)c2cc(C#N)ccc21   \n",
       "1         CHEMBL188487             O=C1C(=O)N(Cc2ccc(F)cc2Cl)c2ccc(I)cc21   \n",
       "2         CHEMBL185698            O=C1C(=O)N(CC2COc3ccccc3O2)c2ccc(I)cc21   \n",
       "3         CHEMBL426082                O=C1C(=O)N(Cc2cc3ccccc3s2)c2ccccc21   \n",
       "4         CHEMBL187717    O=C1C(=O)N(Cc2cc3ccccc3s2)c2c1cccc2[N+](=O)[O-]   \n",
       "..                 ...                                                ...   \n",
       "128      CHEMBL2146517  COC(=O)[C@@]1(C)CCCc2c1ccc1c2C(=O)C(=O)c2c(C)c...   \n",
       "129       CHEMBL187460        C[C@H]1COC2=C1C(=O)C(=O)c1c2ccc2c1CCCC2(C)C   \n",
       "130       CHEMBL363535             Cc1coc2c1C(=O)C(=O)c1c-2ccc2c(C)cccc12   \n",
       "131       CHEMBL227075      Cc1cccc2c3c(ccc12)C1=C(C(=O)C3=O)[C@@H](C)CO1   \n",
       "132        CHEMBL45830             CC(C)C1=Cc2ccc3c(c2C(=O)C1=O)CCCC3(C)C   \n",
       "\n",
       "     standard_value bioactivity_class  \n",
       "0            7200.0      intermediate  \n",
       "1            9400.0      intermediate  \n",
       "2           13500.0          inactive  \n",
       "3           13110.0          inactive  \n",
       "4            2000.0      intermediate  \n",
       "..              ...               ...  \n",
       "128         10600.0          inactive  \n",
       "129         10100.0          inactive  \n",
       "130         11500.0          inactive  \n",
       "131         10700.0          inactive  \n",
       "132         78900.0          inactive  \n",
       "\n",
       "[133 rows x 4 columns]"
      ]
     },
     "execution_count": 16,
     "metadata": {},
     "output_type": "execute_result"
    }
   ],
   "source": [
    "df"
   ]
  },
  {
   "cell_type": "code",
   "execution_count": 17,
   "metadata": {},
   "outputs": [],
   "source": [
    "df_lipinski = lipinski(df.canonical_smiles)"
   ]
  },
  {
   "cell_type": "code",
   "execution_count": 18,
   "metadata": {},
   "outputs": [
    {
     "data": {
      "text/html": [
       "<div>\n",
       "<style scoped>\n",
       "    .dataframe tbody tr th:only-of-type {\n",
       "        vertical-align: middle;\n",
       "    }\n",
       "\n",
       "    .dataframe tbody tr th {\n",
       "        vertical-align: top;\n",
       "    }\n",
       "\n",
       "    .dataframe thead th {\n",
       "        text-align: right;\n",
       "    }\n",
       "</style>\n",
       "<table border=\"1\" class=\"dataframe\">\n",
       "  <thead>\n",
       "    <tr style=\"text-align: right;\">\n",
       "      <th></th>\n",
       "      <th>MW</th>\n",
       "      <th>LogP</th>\n",
       "      <th>NumHDonors</th>\n",
       "      <th>NumHAcceptors</th>\n",
       "    </tr>\n",
       "  </thead>\n",
       "  <tbody>\n",
       "    <tr>\n",
       "      <th>0</th>\n",
       "      <td>281.271</td>\n",
       "      <td>1.89262</td>\n",
       "      <td>0.0</td>\n",
       "      <td>5.0</td>\n",
       "    </tr>\n",
       "    <tr>\n",
       "      <th>1</th>\n",
       "      <td>415.589</td>\n",
       "      <td>3.81320</td>\n",
       "      <td>0.0</td>\n",
       "      <td>2.0</td>\n",
       "    </tr>\n",
       "    <tr>\n",
       "      <th>2</th>\n",
       "      <td>421.190</td>\n",
       "      <td>2.66050</td>\n",
       "      <td>0.0</td>\n",
       "      <td>4.0</td>\n",
       "    </tr>\n",
       "    <tr>\n",
       "      <th>3</th>\n",
       "      <td>293.347</td>\n",
       "      <td>3.63080</td>\n",
       "      <td>0.0</td>\n",
       "      <td>3.0</td>\n",
       "    </tr>\n",
       "    <tr>\n",
       "      <th>4</th>\n",
       "      <td>338.344</td>\n",
       "      <td>3.53900</td>\n",
       "      <td>0.0</td>\n",
       "      <td>5.0</td>\n",
       "    </tr>\n",
       "    <tr>\n",
       "      <th>...</th>\n",
       "      <td>...</td>\n",
       "      <td>...</td>\n",
       "      <td>...</td>\n",
       "      <td>...</td>\n",
       "    </tr>\n",
       "    <tr>\n",
       "      <th>128</th>\n",
       "      <td>338.359</td>\n",
       "      <td>3.40102</td>\n",
       "      <td>0.0</td>\n",
       "      <td>5.0</td>\n",
       "    </tr>\n",
       "    <tr>\n",
       "      <th>129</th>\n",
       "      <td>296.366</td>\n",
       "      <td>3.44330</td>\n",
       "      <td>0.0</td>\n",
       "      <td>3.0</td>\n",
       "    </tr>\n",
       "    <tr>\n",
       "      <th>130</th>\n",
       "      <td>276.291</td>\n",
       "      <td>4.09564</td>\n",
       "      <td>0.0</td>\n",
       "      <td>3.0</td>\n",
       "    </tr>\n",
       "    <tr>\n",
       "      <th>131</th>\n",
       "      <td>278.307</td>\n",
       "      <td>3.29102</td>\n",
       "      <td>0.0</td>\n",
       "      <td>3.0</td>\n",
       "    </tr>\n",
       "    <tr>\n",
       "      <th>132</th>\n",
       "      <td>282.383</td>\n",
       "      <td>4.10530</td>\n",
       "      <td>0.0</td>\n",
       "      <td>2.0</td>\n",
       "    </tr>\n",
       "  </tbody>\n",
       "</table>\n",
       "<p>133 rows × 4 columns</p>\n",
       "</div>"
      ],
      "text/plain": [
       "          MW     LogP  NumHDonors  NumHAcceptors\n",
       "0    281.271  1.89262         0.0            5.0\n",
       "1    415.589  3.81320         0.0            2.0\n",
       "2    421.190  2.66050         0.0            4.0\n",
       "3    293.347  3.63080         0.0            3.0\n",
       "4    338.344  3.53900         0.0            5.0\n",
       "..       ...      ...         ...            ...\n",
       "128  338.359  3.40102         0.0            5.0\n",
       "129  296.366  3.44330         0.0            3.0\n",
       "130  276.291  4.09564         0.0            3.0\n",
       "131  278.307  3.29102         0.0            3.0\n",
       "132  282.383  4.10530         0.0            2.0\n",
       "\n",
       "[133 rows x 4 columns]"
      ]
     },
     "execution_count": 18,
     "metadata": {},
     "output_type": "execute_result"
    }
   ],
   "source": [
    "df_lipinski\n"
   ]
  },
  {
   "cell_type": "code",
   "execution_count": 19,
   "metadata": {},
   "outputs": [
    {
     "data": {
      "text/html": [
       "<div>\n",
       "<style scoped>\n",
       "    .dataframe tbody tr th:only-of-type {\n",
       "        vertical-align: middle;\n",
       "    }\n",
       "\n",
       "    .dataframe tbody tr th {\n",
       "        vertical-align: top;\n",
       "    }\n",
       "\n",
       "    .dataframe thead th {\n",
       "        text-align: right;\n",
       "    }\n",
       "</style>\n",
       "<table border=\"1\" class=\"dataframe\">\n",
       "  <thead>\n",
       "    <tr style=\"text-align: right;\">\n",
       "      <th></th>\n",
       "      <th>molecule_chembl_id</th>\n",
       "      <th>canonical_smiles</th>\n",
       "      <th>standard_value</th>\n",
       "      <th>bioactivity_class</th>\n",
       "      <th>MW</th>\n",
       "      <th>LogP</th>\n",
       "      <th>NumHDonors</th>\n",
       "      <th>NumHAcceptors</th>\n",
       "    </tr>\n",
       "  </thead>\n",
       "  <tbody>\n",
       "    <tr>\n",
       "      <th>0</th>\n",
       "      <td>CHEMBL187579</td>\n",
       "      <td>Cc1noc(C)c1CN1C(=O)C(=O)c2cc(C#N)ccc21</td>\n",
       "      <td>7200.0</td>\n",
       "      <td>intermediate</td>\n",
       "      <td>281.271</td>\n",
       "      <td>1.89262</td>\n",
       "      <td>0.0</td>\n",
       "      <td>5.0</td>\n",
       "    </tr>\n",
       "    <tr>\n",
       "      <th>1</th>\n",
       "      <td>CHEMBL188487</td>\n",
       "      <td>O=C1C(=O)N(Cc2ccc(F)cc2Cl)c2ccc(I)cc21</td>\n",
       "      <td>9400.0</td>\n",
       "      <td>intermediate</td>\n",
       "      <td>415.589</td>\n",
       "      <td>3.81320</td>\n",
       "      <td>0.0</td>\n",
       "      <td>2.0</td>\n",
       "    </tr>\n",
       "    <tr>\n",
       "      <th>2</th>\n",
       "      <td>CHEMBL185698</td>\n",
       "      <td>O=C1C(=O)N(CC2COc3ccccc3O2)c2ccc(I)cc21</td>\n",
       "      <td>13500.0</td>\n",
       "      <td>inactive</td>\n",
       "      <td>421.190</td>\n",
       "      <td>2.66050</td>\n",
       "      <td>0.0</td>\n",
       "      <td>4.0</td>\n",
       "    </tr>\n",
       "    <tr>\n",
       "      <th>3</th>\n",
       "      <td>CHEMBL426082</td>\n",
       "      <td>O=C1C(=O)N(Cc2cc3ccccc3s2)c2ccccc21</td>\n",
       "      <td>13110.0</td>\n",
       "      <td>inactive</td>\n",
       "      <td>293.347</td>\n",
       "      <td>3.63080</td>\n",
       "      <td>0.0</td>\n",
       "      <td>3.0</td>\n",
       "    </tr>\n",
       "    <tr>\n",
       "      <th>4</th>\n",
       "      <td>CHEMBL187717</td>\n",
       "      <td>O=C1C(=O)N(Cc2cc3ccccc3s2)c2c1cccc2[N+](=O)[O-]</td>\n",
       "      <td>2000.0</td>\n",
       "      <td>intermediate</td>\n",
       "      <td>338.344</td>\n",
       "      <td>3.53900</td>\n",
       "      <td>0.0</td>\n",
       "      <td>5.0</td>\n",
       "    </tr>\n",
       "    <tr>\n",
       "      <th>...</th>\n",
       "      <td>...</td>\n",
       "      <td>...</td>\n",
       "      <td>...</td>\n",
       "      <td>...</td>\n",
       "      <td>...</td>\n",
       "      <td>...</td>\n",
       "      <td>...</td>\n",
       "      <td>...</td>\n",
       "    </tr>\n",
       "    <tr>\n",
       "      <th>128</th>\n",
       "      <td>CHEMBL2146517</td>\n",
       "      <td>COC(=O)[C@@]1(C)CCCc2c1ccc1c2C(=O)C(=O)c2c(C)c...</td>\n",
       "      <td>10600.0</td>\n",
       "      <td>inactive</td>\n",
       "      <td>338.359</td>\n",
       "      <td>3.40102</td>\n",
       "      <td>0.0</td>\n",
       "      <td>5.0</td>\n",
       "    </tr>\n",
       "    <tr>\n",
       "      <th>129</th>\n",
       "      <td>CHEMBL187460</td>\n",
       "      <td>C[C@H]1COC2=C1C(=O)C(=O)c1c2ccc2c1CCCC2(C)C</td>\n",
       "      <td>10100.0</td>\n",
       "      <td>inactive</td>\n",
       "      <td>296.366</td>\n",
       "      <td>3.44330</td>\n",
       "      <td>0.0</td>\n",
       "      <td>3.0</td>\n",
       "    </tr>\n",
       "    <tr>\n",
       "      <th>130</th>\n",
       "      <td>CHEMBL363535</td>\n",
       "      <td>Cc1coc2c1C(=O)C(=O)c1c-2ccc2c(C)cccc12</td>\n",
       "      <td>11500.0</td>\n",
       "      <td>inactive</td>\n",
       "      <td>276.291</td>\n",
       "      <td>4.09564</td>\n",
       "      <td>0.0</td>\n",
       "      <td>3.0</td>\n",
       "    </tr>\n",
       "    <tr>\n",
       "      <th>131</th>\n",
       "      <td>CHEMBL227075</td>\n",
       "      <td>Cc1cccc2c3c(ccc12)C1=C(C(=O)C3=O)[C@@H](C)CO1</td>\n",
       "      <td>10700.0</td>\n",
       "      <td>inactive</td>\n",
       "      <td>278.307</td>\n",
       "      <td>3.29102</td>\n",
       "      <td>0.0</td>\n",
       "      <td>3.0</td>\n",
       "    </tr>\n",
       "    <tr>\n",
       "      <th>132</th>\n",
       "      <td>CHEMBL45830</td>\n",
       "      <td>CC(C)C1=Cc2ccc3c(c2C(=O)C1=O)CCCC3(C)C</td>\n",
       "      <td>78900.0</td>\n",
       "      <td>inactive</td>\n",
       "      <td>282.383</td>\n",
       "      <td>4.10530</td>\n",
       "      <td>0.0</td>\n",
       "      <td>2.0</td>\n",
       "    </tr>\n",
       "  </tbody>\n",
       "</table>\n",
       "<p>133 rows × 8 columns</p>\n",
       "</div>"
      ],
      "text/plain": [
       "    molecule_chembl_id                                   canonical_smiles  \\\n",
       "0         CHEMBL187579             Cc1noc(C)c1CN1C(=O)C(=O)c2cc(C#N)ccc21   \n",
       "1         CHEMBL188487             O=C1C(=O)N(Cc2ccc(F)cc2Cl)c2ccc(I)cc21   \n",
       "2         CHEMBL185698            O=C1C(=O)N(CC2COc3ccccc3O2)c2ccc(I)cc21   \n",
       "3         CHEMBL426082                O=C1C(=O)N(Cc2cc3ccccc3s2)c2ccccc21   \n",
       "4         CHEMBL187717    O=C1C(=O)N(Cc2cc3ccccc3s2)c2c1cccc2[N+](=O)[O-]   \n",
       "..                 ...                                                ...   \n",
       "128      CHEMBL2146517  COC(=O)[C@@]1(C)CCCc2c1ccc1c2C(=O)C(=O)c2c(C)c...   \n",
       "129       CHEMBL187460        C[C@H]1COC2=C1C(=O)C(=O)c1c2ccc2c1CCCC2(C)C   \n",
       "130       CHEMBL363535             Cc1coc2c1C(=O)C(=O)c1c-2ccc2c(C)cccc12   \n",
       "131       CHEMBL227075      Cc1cccc2c3c(ccc12)C1=C(C(=O)C3=O)[C@@H](C)CO1   \n",
       "132        CHEMBL45830             CC(C)C1=Cc2ccc3c(c2C(=O)C1=O)CCCC3(C)C   \n",
       "\n",
       "     standard_value bioactivity_class       MW     LogP  NumHDonors  \\\n",
       "0            7200.0      intermediate  281.271  1.89262         0.0   \n",
       "1            9400.0      intermediate  415.589  3.81320         0.0   \n",
       "2           13500.0          inactive  421.190  2.66050         0.0   \n",
       "3           13110.0          inactive  293.347  3.63080         0.0   \n",
       "4            2000.0      intermediate  338.344  3.53900         0.0   \n",
       "..              ...               ...      ...      ...         ...   \n",
       "128         10600.0          inactive  338.359  3.40102         0.0   \n",
       "129         10100.0          inactive  296.366  3.44330         0.0   \n",
       "130         11500.0          inactive  276.291  4.09564         0.0   \n",
       "131         10700.0          inactive  278.307  3.29102         0.0   \n",
       "132         78900.0          inactive  282.383  4.10530         0.0   \n",
       "\n",
       "     NumHAcceptors  \n",
       "0              5.0  \n",
       "1              2.0  \n",
       "2              4.0  \n",
       "3              3.0  \n",
       "4              5.0  \n",
       "..             ...  \n",
       "128            5.0  \n",
       "129            3.0  \n",
       "130            3.0  \n",
       "131            3.0  \n",
       "132            2.0  \n",
       "\n",
       "[133 rows x 8 columns]"
      ]
     },
     "execution_count": 19,
     "metadata": {},
     "output_type": "execute_result"
    }
   ],
   "source": [
    "df_combined = pd.concat([df, df_lipinski], axis=1)\n",
    "df_combined"
   ]
  },
  {
   "cell_type": "markdown",
   "metadata": {},
   "source": [
    "### **Convert IC50 to pIC50**\n",
    "To allow **IC50** data to be more uniformly distributed, we will convert **IC50** to the negative logarithmic scale which is essentially **-log10(IC50)**.\n",
    "\n",
    "This custom function pIC50() will accept a DataFrame as input and will:\n",
    "* Take the IC50 values from the ``standard_value`` column and converts it from nM to M by multiplying the value by 10$^{-9}$\n",
    "* Take the molar value and apply -log10\n",
    "* Delete the ``standard_value`` column and create a new ``pIC50`` column"
   ]
  },
  {
   "cell_type": "code",
   "execution_count": 24,
   "metadata": {},
   "outputs": [],
   "source": [
    "# https://github.com/chaninlab/estrogen-receptor-alpha-qsar/blob/master/02_ER_alpha_RO5.ipynb\n",
    "\n",
    "import numpy as np\n",
    "\n",
    "def pIC50(input):\n",
    "    pIC50 = []\n",
    "\n",
    "    for i in input['standard_value_norm']:\n",
    "        molar = i*(10**-9) # Converts nM to M\n",
    "        pIC50.append(-np.log10(molar))\n",
    "\n",
    "    input['pIC50'] = pIC50\n",
    "    x = input.drop('standard_value_norm', 1)\n",
    "        \n",
    "    return x"
   ]
  },
  {
   "cell_type": "markdown",
   "metadata": {},
   "source": [
    "Point to note: Values greater than 100,000,000 will be fixed at 100,000,000 otherwise the negative logarithmic value will become negative."
   ]
  },
  {
   "cell_type": "code",
   "execution_count": 25,
   "metadata": {},
   "outputs": [
    {
     "data": {
      "text/plain": [
       "count        133.000000\n",
       "mean       85967.130075\n",
       "std       158897.319181\n",
       "min           50.000000\n",
       "25%        10100.000000\n",
       "50%        17500.000000\n",
       "75%        70000.000000\n",
       "max      1000000.000000\n",
       "Name: standard_value, dtype: float64"
      ]
     },
     "execution_count": 25,
     "metadata": {},
     "output_type": "execute_result"
    }
   ],
   "source": [
    "df_combined.standard_value.describe()"
   ]
  },
  {
   "cell_type": "code",
   "execution_count": 29,
   "metadata": {},
   "outputs": [
    {
     "data": {
      "text/plain": [
       "1.0"
      ]
     },
     "execution_count": 29,
     "metadata": {},
     "output_type": "execute_result"
    }
   ],
   "source": [
    "# so the values dont exceed 100million\n",
    "-np.log10( (10**-9)* 100000000 )"
   ]
  },
  {
   "cell_type": "code",
   "execution_count": 27,
   "metadata": {},
   "outputs": [
    {
     "data": {
      "text/plain": [
       "-1.0"
      ]
     },
     "execution_count": 27,
     "metadata": {},
     "output_type": "execute_result"
    }
   ],
   "source": [
    "-np.log10( (10**-9)* 10000000000 )"
   ]
  },
  {
   "cell_type": "code",
   "execution_count": 28,
   "metadata": {},
   "outputs": [],
   "source": [
    "def norm_value(input):\n",
    "    norm = []\n",
    "\n",
    "    for i in input['standard_value']:\n",
    "        if i > 100000000:\n",
    "          i = 100000000\n",
    "        norm.append(i)\n",
    "\n",
    "    input['standard_value_norm'] = norm\n",
    "    x = input.drop('standard_value', 1)\n",
    "        \n",
    "    return x"
   ]
  },
  {
   "cell_type": "markdown",
   "metadata": {},
   "source": [
    "We will first apply the norm_value() function so that the values in the standard_value column is normalized."
   ]
  },
  {
   "cell_type": "code",
   "execution_count": 30,
   "metadata": {},
   "outputs": [
    {
     "name": "stderr",
     "output_type": "stream",
     "text": [
      "C:\\Users\\HP\\AppData\\Local\\Temp\\ipykernel_176108\\3416609517.py:10: FutureWarning: In a future version of pandas all arguments of DataFrame.drop except for the argument 'labels' will be keyword-only.\n",
      "  x = input.drop('standard_value', 1)\n"
     ]
    },
    {
     "data": {
      "text/html": [
       "<div>\n",
       "<style scoped>\n",
       "    .dataframe tbody tr th:only-of-type {\n",
       "        vertical-align: middle;\n",
       "    }\n",
       "\n",
       "    .dataframe tbody tr th {\n",
       "        vertical-align: top;\n",
       "    }\n",
       "\n",
       "    .dataframe thead th {\n",
       "        text-align: right;\n",
       "    }\n",
       "</style>\n",
       "<table border=\"1\" class=\"dataframe\">\n",
       "  <thead>\n",
       "    <tr style=\"text-align: right;\">\n",
       "      <th></th>\n",
       "      <th>molecule_chembl_id</th>\n",
       "      <th>canonical_smiles</th>\n",
       "      <th>bioactivity_class</th>\n",
       "      <th>MW</th>\n",
       "      <th>LogP</th>\n",
       "      <th>NumHDonors</th>\n",
       "      <th>NumHAcceptors</th>\n",
       "      <th>standard_value_norm</th>\n",
       "    </tr>\n",
       "  </thead>\n",
       "  <tbody>\n",
       "    <tr>\n",
       "      <th>0</th>\n",
       "      <td>CHEMBL187579</td>\n",
       "      <td>Cc1noc(C)c1CN1C(=O)C(=O)c2cc(C#N)ccc21</td>\n",
       "      <td>intermediate</td>\n",
       "      <td>281.271</td>\n",
       "      <td>1.89262</td>\n",
       "      <td>0.0</td>\n",
       "      <td>5.0</td>\n",
       "      <td>7200.0</td>\n",
       "    </tr>\n",
       "    <tr>\n",
       "      <th>1</th>\n",
       "      <td>CHEMBL188487</td>\n",
       "      <td>O=C1C(=O)N(Cc2ccc(F)cc2Cl)c2ccc(I)cc21</td>\n",
       "      <td>intermediate</td>\n",
       "      <td>415.589</td>\n",
       "      <td>3.81320</td>\n",
       "      <td>0.0</td>\n",
       "      <td>2.0</td>\n",
       "      <td>9400.0</td>\n",
       "    </tr>\n",
       "    <tr>\n",
       "      <th>2</th>\n",
       "      <td>CHEMBL185698</td>\n",
       "      <td>O=C1C(=O)N(CC2COc3ccccc3O2)c2ccc(I)cc21</td>\n",
       "      <td>inactive</td>\n",
       "      <td>421.190</td>\n",
       "      <td>2.66050</td>\n",
       "      <td>0.0</td>\n",
       "      <td>4.0</td>\n",
       "      <td>13500.0</td>\n",
       "    </tr>\n",
       "    <tr>\n",
       "      <th>3</th>\n",
       "      <td>CHEMBL426082</td>\n",
       "      <td>O=C1C(=O)N(Cc2cc3ccccc3s2)c2ccccc21</td>\n",
       "      <td>inactive</td>\n",
       "      <td>293.347</td>\n",
       "      <td>3.63080</td>\n",
       "      <td>0.0</td>\n",
       "      <td>3.0</td>\n",
       "      <td>13110.0</td>\n",
       "    </tr>\n",
       "    <tr>\n",
       "      <th>4</th>\n",
       "      <td>CHEMBL187717</td>\n",
       "      <td>O=C1C(=O)N(Cc2cc3ccccc3s2)c2c1cccc2[N+](=O)[O-]</td>\n",
       "      <td>intermediate</td>\n",
       "      <td>338.344</td>\n",
       "      <td>3.53900</td>\n",
       "      <td>0.0</td>\n",
       "      <td>5.0</td>\n",
       "      <td>2000.0</td>\n",
       "    </tr>\n",
       "    <tr>\n",
       "      <th>...</th>\n",
       "      <td>...</td>\n",
       "      <td>...</td>\n",
       "      <td>...</td>\n",
       "      <td>...</td>\n",
       "      <td>...</td>\n",
       "      <td>...</td>\n",
       "      <td>...</td>\n",
       "      <td>...</td>\n",
       "    </tr>\n",
       "    <tr>\n",
       "      <th>128</th>\n",
       "      <td>CHEMBL2146517</td>\n",
       "      <td>COC(=O)[C@@]1(C)CCCc2c1ccc1c2C(=O)C(=O)c2c(C)c...</td>\n",
       "      <td>inactive</td>\n",
       "      <td>338.359</td>\n",
       "      <td>3.40102</td>\n",
       "      <td>0.0</td>\n",
       "      <td>5.0</td>\n",
       "      <td>10600.0</td>\n",
       "    </tr>\n",
       "    <tr>\n",
       "      <th>129</th>\n",
       "      <td>CHEMBL187460</td>\n",
       "      <td>C[C@H]1COC2=C1C(=O)C(=O)c1c2ccc2c1CCCC2(C)C</td>\n",
       "      <td>inactive</td>\n",
       "      <td>296.366</td>\n",
       "      <td>3.44330</td>\n",
       "      <td>0.0</td>\n",
       "      <td>3.0</td>\n",
       "      <td>10100.0</td>\n",
       "    </tr>\n",
       "    <tr>\n",
       "      <th>130</th>\n",
       "      <td>CHEMBL363535</td>\n",
       "      <td>Cc1coc2c1C(=O)C(=O)c1c-2ccc2c(C)cccc12</td>\n",
       "      <td>inactive</td>\n",
       "      <td>276.291</td>\n",
       "      <td>4.09564</td>\n",
       "      <td>0.0</td>\n",
       "      <td>3.0</td>\n",
       "      <td>11500.0</td>\n",
       "    </tr>\n",
       "    <tr>\n",
       "      <th>131</th>\n",
       "      <td>CHEMBL227075</td>\n",
       "      <td>Cc1cccc2c3c(ccc12)C1=C(C(=O)C3=O)[C@@H](C)CO1</td>\n",
       "      <td>inactive</td>\n",
       "      <td>278.307</td>\n",
       "      <td>3.29102</td>\n",
       "      <td>0.0</td>\n",
       "      <td>3.0</td>\n",
       "      <td>10700.0</td>\n",
       "    </tr>\n",
       "    <tr>\n",
       "      <th>132</th>\n",
       "      <td>CHEMBL45830</td>\n",
       "      <td>CC(C)C1=Cc2ccc3c(c2C(=O)C1=O)CCCC3(C)C</td>\n",
       "      <td>inactive</td>\n",
       "      <td>282.383</td>\n",
       "      <td>4.10530</td>\n",
       "      <td>0.0</td>\n",
       "      <td>2.0</td>\n",
       "      <td>78900.0</td>\n",
       "    </tr>\n",
       "  </tbody>\n",
       "</table>\n",
       "<p>133 rows × 8 columns</p>\n",
       "</div>"
      ],
      "text/plain": [
       "    molecule_chembl_id                                   canonical_smiles  \\\n",
       "0         CHEMBL187579             Cc1noc(C)c1CN1C(=O)C(=O)c2cc(C#N)ccc21   \n",
       "1         CHEMBL188487             O=C1C(=O)N(Cc2ccc(F)cc2Cl)c2ccc(I)cc21   \n",
       "2         CHEMBL185698            O=C1C(=O)N(CC2COc3ccccc3O2)c2ccc(I)cc21   \n",
       "3         CHEMBL426082                O=C1C(=O)N(Cc2cc3ccccc3s2)c2ccccc21   \n",
       "4         CHEMBL187717    O=C1C(=O)N(Cc2cc3ccccc3s2)c2c1cccc2[N+](=O)[O-]   \n",
       "..                 ...                                                ...   \n",
       "128      CHEMBL2146517  COC(=O)[C@@]1(C)CCCc2c1ccc1c2C(=O)C(=O)c2c(C)c...   \n",
       "129       CHEMBL187460        C[C@H]1COC2=C1C(=O)C(=O)c1c2ccc2c1CCCC2(C)C   \n",
       "130       CHEMBL363535             Cc1coc2c1C(=O)C(=O)c1c-2ccc2c(C)cccc12   \n",
       "131       CHEMBL227075      Cc1cccc2c3c(ccc12)C1=C(C(=O)C3=O)[C@@H](C)CO1   \n",
       "132        CHEMBL45830             CC(C)C1=Cc2ccc3c(c2C(=O)C1=O)CCCC3(C)C   \n",
       "\n",
       "    bioactivity_class       MW     LogP  NumHDonors  NumHAcceptors  \\\n",
       "0        intermediate  281.271  1.89262         0.0            5.0   \n",
       "1        intermediate  415.589  3.81320         0.0            2.0   \n",
       "2            inactive  421.190  2.66050         0.0            4.0   \n",
       "3            inactive  293.347  3.63080         0.0            3.0   \n",
       "4        intermediate  338.344  3.53900         0.0            5.0   \n",
       "..                ...      ...      ...         ...            ...   \n",
       "128          inactive  338.359  3.40102         0.0            5.0   \n",
       "129          inactive  296.366  3.44330         0.0            3.0   \n",
       "130          inactive  276.291  4.09564         0.0            3.0   \n",
       "131          inactive  278.307  3.29102         0.0            3.0   \n",
       "132          inactive  282.383  4.10530         0.0            2.0   \n",
       "\n",
       "     standard_value_norm  \n",
       "0                 7200.0  \n",
       "1                 9400.0  \n",
       "2                13500.0  \n",
       "3                13110.0  \n",
       "4                 2000.0  \n",
       "..                   ...  \n",
       "128              10600.0  \n",
       "129              10100.0  \n",
       "130              11500.0  \n",
       "131              10700.0  \n",
       "132              78900.0  \n",
       "\n",
       "[133 rows x 8 columns]"
      ]
     },
     "execution_count": 30,
     "metadata": {},
     "output_type": "execute_result"
    }
   ],
   "source": [
    "df_norm = norm_value(df_combined)\n",
    "df_norm"
   ]
  },
  {
   "cell_type": "code",
   "execution_count": 31,
   "metadata": {},
   "outputs": [
    {
     "data": {
      "text/plain": [
       "count        133.000000\n",
       "mean       85967.130075\n",
       "std       158897.319181\n",
       "min           50.000000\n",
       "25%        10100.000000\n",
       "50%        17500.000000\n",
       "75%        70000.000000\n",
       "max      1000000.000000\n",
       "Name: standard_value_norm, dtype: float64"
      ]
     },
     "execution_count": 31,
     "metadata": {},
     "output_type": "execute_result"
    }
   ],
   "source": [
    "df_norm.standard_value_norm.describe()"
   ]
  },
  {
   "cell_type": "code",
   "execution_count": 32,
   "metadata": {},
   "outputs": [
    {
     "name": "stderr",
     "output_type": "stream",
     "text": [
      "C:\\Users\\HP\\AppData\\Local\\Temp\\ipykernel_176108\\3442786292.py:13: FutureWarning: In a future version of pandas all arguments of DataFrame.drop except for the argument 'labels' will be keyword-only.\n",
      "  x = input.drop('standard_value_norm', 1)\n"
     ]
    },
    {
     "data": {
      "text/html": [
       "<div>\n",
       "<style scoped>\n",
       "    .dataframe tbody tr th:only-of-type {\n",
       "        vertical-align: middle;\n",
       "    }\n",
       "\n",
       "    .dataframe tbody tr th {\n",
       "        vertical-align: top;\n",
       "    }\n",
       "\n",
       "    .dataframe thead th {\n",
       "        text-align: right;\n",
       "    }\n",
       "</style>\n",
       "<table border=\"1\" class=\"dataframe\">\n",
       "  <thead>\n",
       "    <tr style=\"text-align: right;\">\n",
       "      <th></th>\n",
       "      <th>molecule_chembl_id</th>\n",
       "      <th>canonical_smiles</th>\n",
       "      <th>bioactivity_class</th>\n",
       "      <th>MW</th>\n",
       "      <th>LogP</th>\n",
       "      <th>NumHDonors</th>\n",
       "      <th>NumHAcceptors</th>\n",
       "      <th>pIC50</th>\n",
       "    </tr>\n",
       "  </thead>\n",
       "  <tbody>\n",
       "    <tr>\n",
       "      <th>0</th>\n",
       "      <td>CHEMBL187579</td>\n",
       "      <td>Cc1noc(C)c1CN1C(=O)C(=O)c2cc(C#N)ccc21</td>\n",
       "      <td>intermediate</td>\n",
       "      <td>281.271</td>\n",
       "      <td>1.89262</td>\n",
       "      <td>0.0</td>\n",
       "      <td>5.0</td>\n",
       "      <td>5.142668</td>\n",
       "    </tr>\n",
       "    <tr>\n",
       "      <th>1</th>\n",
       "      <td>CHEMBL188487</td>\n",
       "      <td>O=C1C(=O)N(Cc2ccc(F)cc2Cl)c2ccc(I)cc21</td>\n",
       "      <td>intermediate</td>\n",
       "      <td>415.589</td>\n",
       "      <td>3.81320</td>\n",
       "      <td>0.0</td>\n",
       "      <td>2.0</td>\n",
       "      <td>5.026872</td>\n",
       "    </tr>\n",
       "    <tr>\n",
       "      <th>2</th>\n",
       "      <td>CHEMBL185698</td>\n",
       "      <td>O=C1C(=O)N(CC2COc3ccccc3O2)c2ccc(I)cc21</td>\n",
       "      <td>inactive</td>\n",
       "      <td>421.190</td>\n",
       "      <td>2.66050</td>\n",
       "      <td>0.0</td>\n",
       "      <td>4.0</td>\n",
       "      <td>4.869666</td>\n",
       "    </tr>\n",
       "    <tr>\n",
       "      <th>3</th>\n",
       "      <td>CHEMBL426082</td>\n",
       "      <td>O=C1C(=O)N(Cc2cc3ccccc3s2)c2ccccc21</td>\n",
       "      <td>inactive</td>\n",
       "      <td>293.347</td>\n",
       "      <td>3.63080</td>\n",
       "      <td>0.0</td>\n",
       "      <td>3.0</td>\n",
       "      <td>4.882397</td>\n",
       "    </tr>\n",
       "    <tr>\n",
       "      <th>4</th>\n",
       "      <td>CHEMBL187717</td>\n",
       "      <td>O=C1C(=O)N(Cc2cc3ccccc3s2)c2c1cccc2[N+](=O)[O-]</td>\n",
       "      <td>intermediate</td>\n",
       "      <td>338.344</td>\n",
       "      <td>3.53900</td>\n",
       "      <td>0.0</td>\n",
       "      <td>5.0</td>\n",
       "      <td>5.698970</td>\n",
       "    </tr>\n",
       "    <tr>\n",
       "      <th>...</th>\n",
       "      <td>...</td>\n",
       "      <td>...</td>\n",
       "      <td>...</td>\n",
       "      <td>...</td>\n",
       "      <td>...</td>\n",
       "      <td>...</td>\n",
       "      <td>...</td>\n",
       "      <td>...</td>\n",
       "    </tr>\n",
       "    <tr>\n",
       "      <th>128</th>\n",
       "      <td>CHEMBL2146517</td>\n",
       "      <td>COC(=O)[C@@]1(C)CCCc2c1ccc1c2C(=O)C(=O)c2c(C)c...</td>\n",
       "      <td>inactive</td>\n",
       "      <td>338.359</td>\n",
       "      <td>3.40102</td>\n",
       "      <td>0.0</td>\n",
       "      <td>5.0</td>\n",
       "      <td>4.974694</td>\n",
       "    </tr>\n",
       "    <tr>\n",
       "      <th>129</th>\n",
       "      <td>CHEMBL187460</td>\n",
       "      <td>C[C@H]1COC2=C1C(=O)C(=O)c1c2ccc2c1CCCC2(C)C</td>\n",
       "      <td>inactive</td>\n",
       "      <td>296.366</td>\n",
       "      <td>3.44330</td>\n",
       "      <td>0.0</td>\n",
       "      <td>3.0</td>\n",
       "      <td>4.995679</td>\n",
       "    </tr>\n",
       "    <tr>\n",
       "      <th>130</th>\n",
       "      <td>CHEMBL363535</td>\n",
       "      <td>Cc1coc2c1C(=O)C(=O)c1c-2ccc2c(C)cccc12</td>\n",
       "      <td>inactive</td>\n",
       "      <td>276.291</td>\n",
       "      <td>4.09564</td>\n",
       "      <td>0.0</td>\n",
       "      <td>3.0</td>\n",
       "      <td>4.939302</td>\n",
       "    </tr>\n",
       "    <tr>\n",
       "      <th>131</th>\n",
       "      <td>CHEMBL227075</td>\n",
       "      <td>Cc1cccc2c3c(ccc12)C1=C(C(=O)C3=O)[C@@H](C)CO1</td>\n",
       "      <td>inactive</td>\n",
       "      <td>278.307</td>\n",
       "      <td>3.29102</td>\n",
       "      <td>0.0</td>\n",
       "      <td>3.0</td>\n",
       "      <td>4.970616</td>\n",
       "    </tr>\n",
       "    <tr>\n",
       "      <th>132</th>\n",
       "      <td>CHEMBL45830</td>\n",
       "      <td>CC(C)C1=Cc2ccc3c(c2C(=O)C1=O)CCCC3(C)C</td>\n",
       "      <td>inactive</td>\n",
       "      <td>282.383</td>\n",
       "      <td>4.10530</td>\n",
       "      <td>0.0</td>\n",
       "      <td>2.0</td>\n",
       "      <td>4.102923</td>\n",
       "    </tr>\n",
       "  </tbody>\n",
       "</table>\n",
       "<p>133 rows × 8 columns</p>\n",
       "</div>"
      ],
      "text/plain": [
       "    molecule_chembl_id                                   canonical_smiles  \\\n",
       "0         CHEMBL187579             Cc1noc(C)c1CN1C(=O)C(=O)c2cc(C#N)ccc21   \n",
       "1         CHEMBL188487             O=C1C(=O)N(Cc2ccc(F)cc2Cl)c2ccc(I)cc21   \n",
       "2         CHEMBL185698            O=C1C(=O)N(CC2COc3ccccc3O2)c2ccc(I)cc21   \n",
       "3         CHEMBL426082                O=C1C(=O)N(Cc2cc3ccccc3s2)c2ccccc21   \n",
       "4         CHEMBL187717    O=C1C(=O)N(Cc2cc3ccccc3s2)c2c1cccc2[N+](=O)[O-]   \n",
       "..                 ...                                                ...   \n",
       "128      CHEMBL2146517  COC(=O)[C@@]1(C)CCCc2c1ccc1c2C(=O)C(=O)c2c(C)c...   \n",
       "129       CHEMBL187460        C[C@H]1COC2=C1C(=O)C(=O)c1c2ccc2c1CCCC2(C)C   \n",
       "130       CHEMBL363535             Cc1coc2c1C(=O)C(=O)c1c-2ccc2c(C)cccc12   \n",
       "131       CHEMBL227075      Cc1cccc2c3c(ccc12)C1=C(C(=O)C3=O)[C@@H](C)CO1   \n",
       "132        CHEMBL45830             CC(C)C1=Cc2ccc3c(c2C(=O)C1=O)CCCC3(C)C   \n",
       "\n",
       "    bioactivity_class       MW     LogP  NumHDonors  NumHAcceptors     pIC50  \n",
       "0        intermediate  281.271  1.89262         0.0            5.0  5.142668  \n",
       "1        intermediate  415.589  3.81320         0.0            2.0  5.026872  \n",
       "2            inactive  421.190  2.66050         0.0            4.0  4.869666  \n",
       "3            inactive  293.347  3.63080         0.0            3.0  4.882397  \n",
       "4        intermediate  338.344  3.53900         0.0            5.0  5.698970  \n",
       "..                ...      ...      ...         ...            ...       ...  \n",
       "128          inactive  338.359  3.40102         0.0            5.0  4.974694  \n",
       "129          inactive  296.366  3.44330         0.0            3.0  4.995679  \n",
       "130          inactive  276.291  4.09564         0.0            3.0  4.939302  \n",
       "131          inactive  278.307  3.29102         0.0            3.0  4.970616  \n",
       "132          inactive  282.383  4.10530         0.0            2.0  4.102923  \n",
       "\n",
       "[133 rows x 8 columns]"
      ]
     },
     "execution_count": 32,
     "metadata": {},
     "output_type": "execute_result"
    }
   ],
   "source": [
    "df_final = pIC50(df_norm)\n",
    "df_final"
   ]
  },
  {
   "cell_type": "code",
   "execution_count": 33,
   "metadata": {},
   "outputs": [
    {
     "data": {
      "text/plain": [
       "count    133.000000\n",
       "mean       4.718269\n",
       "std        0.920910\n",
       "min        3.000000\n",
       "25%        4.154902\n",
       "50%        4.756962\n",
       "75%        4.995679\n",
       "max        7.301030\n",
       "Name: pIC50, dtype: float64"
      ]
     },
     "execution_count": 33,
     "metadata": {},
     "output_type": "execute_result"
    }
   ],
   "source": [
    "df_final.pIC50.describe()"
   ]
  },
  {
   "cell_type": "code",
   "execution_count": null,
   "metadata": {},
   "outputs": [],
   "source": [
    "df_final.to_csv('coronavirus_3class.csv', index=False)\n"
   ]
  },
  {
   "cell_type": "markdown",
   "metadata": {},
   "source": [
    "removing intermediate class"
   ]
  },
  {
   "cell_type": "code",
   "execution_count": 42,
   "metadata": {},
   "outputs": [
    {
     "data": {
      "text/html": [
       "<div>\n",
       "<style scoped>\n",
       "    .dataframe tbody tr th:only-of-type {\n",
       "        vertical-align: middle;\n",
       "    }\n",
       "\n",
       "    .dataframe tbody tr th {\n",
       "        vertical-align: top;\n",
       "    }\n",
       "\n",
       "    .dataframe thead th {\n",
       "        text-align: right;\n",
       "    }\n",
       "</style>\n",
       "<table border=\"1\" class=\"dataframe\">\n",
       "  <thead>\n",
       "    <tr style=\"text-align: right;\">\n",
       "      <th></th>\n",
       "      <th>molecule_chembl_id</th>\n",
       "      <th>canonical_smiles</th>\n",
       "      <th>bioactivity_class</th>\n",
       "      <th>MW</th>\n",
       "      <th>LogP</th>\n",
       "      <th>NumHDonors</th>\n",
       "      <th>NumHAcceptors</th>\n",
       "      <th>pIC50</th>\n",
       "    </tr>\n",
       "  </thead>\n",
       "  <tbody>\n",
       "    <tr>\n",
       "      <th>2</th>\n",
       "      <td>CHEMBL185698</td>\n",
       "      <td>O=C1C(=O)N(CC2COc3ccccc3O2)c2ccc(I)cc21</td>\n",
       "      <td>inactive</td>\n",
       "      <td>421.190</td>\n",
       "      <td>2.66050</td>\n",
       "      <td>0.0</td>\n",
       "      <td>4.0</td>\n",
       "      <td>4.869666</td>\n",
       "    </tr>\n",
       "    <tr>\n",
       "      <th>3</th>\n",
       "      <td>CHEMBL426082</td>\n",
       "      <td>O=C1C(=O)N(Cc2cc3ccccc3s2)c2ccccc21</td>\n",
       "      <td>inactive</td>\n",
       "      <td>293.347</td>\n",
       "      <td>3.63080</td>\n",
       "      <td>0.0</td>\n",
       "      <td>3.0</td>\n",
       "      <td>4.882397</td>\n",
       "    </tr>\n",
       "    <tr>\n",
       "      <th>5</th>\n",
       "      <td>CHEMBL365134</td>\n",
       "      <td>O=C1C(=O)N(Cc2cc3ccccc3s2)c2c(Br)cccc21</td>\n",
       "      <td>active</td>\n",
       "      <td>372.243</td>\n",
       "      <td>4.39330</td>\n",
       "      <td>0.0</td>\n",
       "      <td>3.0</td>\n",
       "      <td>6.008774</td>\n",
       "    </tr>\n",
       "    <tr>\n",
       "      <th>7</th>\n",
       "      <td>CHEMBL190743</td>\n",
       "      <td>O=C1C(=O)N(Cc2cc3ccccc3s2)c2ccc(I)cc21</td>\n",
       "      <td>active</td>\n",
       "      <td>419.243</td>\n",
       "      <td>4.23540</td>\n",
       "      <td>0.0</td>\n",
       "      <td>3.0</td>\n",
       "      <td>6.022276</td>\n",
       "    </tr>\n",
       "    <tr>\n",
       "      <th>8</th>\n",
       "      <td>CHEMBL365469</td>\n",
       "      <td>O=C1C(=O)N(Cc2cc3ccccc3s2)c2cccc(Cl)c21</td>\n",
       "      <td>inactive</td>\n",
       "      <td>327.792</td>\n",
       "      <td>4.28420</td>\n",
       "      <td>0.0</td>\n",
       "      <td>3.0</td>\n",
       "      <td>4.950782</td>\n",
       "    </tr>\n",
       "    <tr>\n",
       "      <th>...</th>\n",
       "      <td>...</td>\n",
       "      <td>...</td>\n",
       "      <td>...</td>\n",
       "      <td>...</td>\n",
       "      <td>...</td>\n",
       "      <td>...</td>\n",
       "      <td>...</td>\n",
       "      <td>...</td>\n",
       "    </tr>\n",
       "    <tr>\n",
       "      <th>128</th>\n",
       "      <td>CHEMBL2146517</td>\n",
       "      <td>COC(=O)[C@@]1(C)CCCc2c1ccc1c2C(=O)C(=O)c2c(C)c...</td>\n",
       "      <td>inactive</td>\n",
       "      <td>338.359</td>\n",
       "      <td>3.40102</td>\n",
       "      <td>0.0</td>\n",
       "      <td>5.0</td>\n",
       "      <td>4.974694</td>\n",
       "    </tr>\n",
       "    <tr>\n",
       "      <th>129</th>\n",
       "      <td>CHEMBL187460</td>\n",
       "      <td>C[C@H]1COC2=C1C(=O)C(=O)c1c2ccc2c1CCCC2(C)C</td>\n",
       "      <td>inactive</td>\n",
       "      <td>296.366</td>\n",
       "      <td>3.44330</td>\n",
       "      <td>0.0</td>\n",
       "      <td>3.0</td>\n",
       "      <td>4.995679</td>\n",
       "    </tr>\n",
       "    <tr>\n",
       "      <th>130</th>\n",
       "      <td>CHEMBL363535</td>\n",
       "      <td>Cc1coc2c1C(=O)C(=O)c1c-2ccc2c(C)cccc12</td>\n",
       "      <td>inactive</td>\n",
       "      <td>276.291</td>\n",
       "      <td>4.09564</td>\n",
       "      <td>0.0</td>\n",
       "      <td>3.0</td>\n",
       "      <td>4.939302</td>\n",
       "    </tr>\n",
       "    <tr>\n",
       "      <th>131</th>\n",
       "      <td>CHEMBL227075</td>\n",
       "      <td>Cc1cccc2c3c(ccc12)C1=C(C(=O)C3=O)[C@@H](C)CO1</td>\n",
       "      <td>inactive</td>\n",
       "      <td>278.307</td>\n",
       "      <td>3.29102</td>\n",
       "      <td>0.0</td>\n",
       "      <td>3.0</td>\n",
       "      <td>4.970616</td>\n",
       "    </tr>\n",
       "    <tr>\n",
       "      <th>132</th>\n",
       "      <td>CHEMBL45830</td>\n",
       "      <td>CC(C)C1=Cc2ccc3c(c2C(=O)C1=O)CCCC3(C)C</td>\n",
       "      <td>inactive</td>\n",
       "      <td>282.383</td>\n",
       "      <td>4.10530</td>\n",
       "      <td>0.0</td>\n",
       "      <td>2.0</td>\n",
       "      <td>4.102923</td>\n",
       "    </tr>\n",
       "  </tbody>\n",
       "</table>\n",
       "<p>118 rows × 8 columns</p>\n",
       "</div>"
      ],
      "text/plain": [
       "    molecule_chembl_id                                   canonical_smiles  \\\n",
       "2         CHEMBL185698            O=C1C(=O)N(CC2COc3ccccc3O2)c2ccc(I)cc21   \n",
       "3         CHEMBL426082                O=C1C(=O)N(Cc2cc3ccccc3s2)c2ccccc21   \n",
       "5         CHEMBL365134            O=C1C(=O)N(Cc2cc3ccccc3s2)c2c(Br)cccc21   \n",
       "7         CHEMBL190743             O=C1C(=O)N(Cc2cc3ccccc3s2)c2ccc(I)cc21   \n",
       "8         CHEMBL365469            O=C1C(=O)N(Cc2cc3ccccc3s2)c2cccc(Cl)c21   \n",
       "..                 ...                                                ...   \n",
       "128      CHEMBL2146517  COC(=O)[C@@]1(C)CCCc2c1ccc1c2C(=O)C(=O)c2c(C)c...   \n",
       "129       CHEMBL187460        C[C@H]1COC2=C1C(=O)C(=O)c1c2ccc2c1CCCC2(C)C   \n",
       "130       CHEMBL363535             Cc1coc2c1C(=O)C(=O)c1c-2ccc2c(C)cccc12   \n",
       "131       CHEMBL227075      Cc1cccc2c3c(ccc12)C1=C(C(=O)C3=O)[C@@H](C)CO1   \n",
       "132        CHEMBL45830             CC(C)C1=Cc2ccc3c(c2C(=O)C1=O)CCCC3(C)C   \n",
       "\n",
       "    bioactivity_class       MW     LogP  NumHDonors  NumHAcceptors     pIC50  \n",
       "2            inactive  421.190  2.66050         0.0            4.0  4.869666  \n",
       "3            inactive  293.347  3.63080         0.0            3.0  4.882397  \n",
       "5              active  372.243  4.39330         0.0            3.0  6.008774  \n",
       "7              active  419.243  4.23540         0.0            3.0  6.022276  \n",
       "8            inactive  327.792  4.28420         0.0            3.0  4.950782  \n",
       "..                ...      ...      ...         ...            ...       ...  \n",
       "128          inactive  338.359  3.40102         0.0            5.0  4.974694  \n",
       "129          inactive  296.366  3.44330         0.0            3.0  4.995679  \n",
       "130          inactive  276.291  4.09564         0.0            3.0  4.939302  \n",
       "131          inactive  278.307  3.29102         0.0            3.0  4.970616  \n",
       "132          inactive  282.383  4.10530         0.0            2.0  4.102923  \n",
       "\n",
       "[118 rows x 8 columns]"
      ]
     },
     "execution_count": 42,
     "metadata": {},
     "output_type": "execute_result"
    }
   ],
   "source": [
    "df_2class = df_final[df_final['bioactivity_class'] != 'intermediate']\n",
    "df_2class"
   ]
  },
  {
   "cell_type": "code",
   "execution_count": 75,
   "metadata": {},
   "outputs": [],
   "source": [
    "df_2class.to_csv('coronavirus_pcIC50_active_inactive.csv', index=False)\n"
   ]
  },
  {
   "cell_type": "markdown",
   "metadata": {},
   "source": [
    "# Chemical Space Analysis"
   ]
  },
  {
   "cell_type": "code",
   "execution_count": 43,
   "metadata": {},
   "outputs": [],
   "source": [
    "import seaborn as sns\n",
    "sns.set(style='ticks')\n",
    "import matplotlib.pyplot as plt"
   ]
  },
  {
   "cell_type": "markdown",
   "metadata": {},
   "source": [
    "### **Frequency plot of the 2 bioactivity classes**"
   ]
  },
  {
   "cell_type": "code",
   "execution_count": 49,
   "metadata": {},
   "outputs": [
    {
     "name": "stderr",
     "output_type": "stream",
     "text": [
      "C:\\Users\\HP\\AppData\\Local\\Temp\\ipykernel_176108\\932413484.py:3: FutureWarning: \n",
      "\n",
      "Passing `palette` without assigning `hue` is deprecated and will be removed in v0.14.0. Assign the `x` variable to `hue` and set `legend=False` for the same effect.\n",
      "\n",
      "  sns.countplot(x='bioactivity_class', data=df_2class, edgecolor='black', palette='Set3')\n"
     ]
    },
    {
     "data": {
      "text/plain": [
       "Text(0, 0.5, 'Frequency')"
      ]
     },
     "execution_count": 49,
     "metadata": {},
     "output_type": "execute_result"
    },
    {
     "data": {
      "image/png": "[encoded data removed]",
      "text/plain": [
       "<Figure size 550x550 with 1 Axes>"
      ]
     },
     "metadata": {},
     "output_type": "display_data"
    }
   ],
   "source": [
    "plt.figure(figsize=(5.5, 5.5))\n",
    "\n",
    "sns.countplot(x='bioactivity_class', data=df_2class, edgecolor='black', palette='Set3')\n",
    "\n",
    "plt.ylabel('Frequency', fontsize=14, fontweight='bold')\n",
    "\n",
    "# plt.savefig('plot_bioactivity_class.pdf')"
   ]
  },
  {
   "cell_type": "markdown",
   "metadata": {},
   "source": [
    "### **Scatter plot of MW versus LogP**\n",
    "\n",
    "It can be seen that the 2 bioactivity classes are spanning similar chemical spaces as evident by the scatter plot of MW vs LogP."
   ]
  },
  {
   "cell_type": "code",
   "execution_count": 61,
   "metadata": {},
   "outputs": [
    {
     "data": {
      "text/plain": [
       "<matplotlib.legend.Legend at 0x21fb3e40f10>"
      ]
     },
     "execution_count": 61,
     "metadata": {},
     "output_type": "execute_result"
    },
    {
     "data": {
      "image/png": "[encoded data removed]",
      "text/plain": [
       "<Figure size 550x550 with 1 Axes>"
      ]
     },
     "metadata": {},
     "output_type": "display_data"
    }
   ],
   "source": [
    "plt.figure(figsize=(5.5, 5.5))\n",
    "\n",
    "sns.scatterplot(x='MW', y='LogP', data=df_2class, hue='bioactivity_class', size='pIC50', edgecolor='black', alpha=0.7)\n",
    "\n",
    "plt.xlabel('MW', fontsize=14, fontweight='bold')\n",
    "plt.ylabel('LogP', fontsize=14, fontweight='bold')\n",
    "plt.legend(bbox_to_anchor=(1.05, 1), loc=2, borderaxespad=0)\n",
    "# plt.savefig('plot_MW_vs_LogP.pdf')"
   ]
  },
  {
   "cell_type": "markdown",
   "metadata": {},
   "source": [
    "### **Box plots**"
   ]
  },
  {
   "cell_type": "markdown",
   "metadata": {},
   "source": [
    "#### **pIC50 value**"
   ]
  },
  {
   "cell_type": "code",
   "execution_count": 62,
   "metadata": {},
   "outputs": [
    {
     "data": {
      "text/plain": [
       "Text(0, 0.5, 'pIC50 value')"
      ]
     },
     "execution_count": 62,
     "metadata": {},
     "output_type": "execute_result"
    },
    {
     "data": {
      "image/png": "[encoded data removed]",
      "text/plain": [
       "<Figure size 550x550 with 1 Axes>"
      ]
     },
     "metadata": {},
     "output_type": "display_data"
    }
   ],
   "source": [
    "plt.figure(figsize=(5.5, 5.5))\n",
    "\n",
    "sns.boxplot(x = 'bioactivity_class', y = 'pIC50', data = df_2class)\n",
    "\n",
    "plt.xlabel('Bioactivity class', fontsize=14, fontweight='bold')\n",
    "plt.ylabel('pIC50 value', fontsize=14, fontweight='bold')\n",
    "\n",
    "# plt.savefig('plot_ic50.pdf')"
   ]
  },
  {
   "cell_type": "markdown",
   "metadata": {},
   "source": [
    "**Statistical analysis | Mann-Whitney U Test**"
   ]
  },
  {
   "cell_type": "code",
   "execution_count": 64,
   "metadata": {},
   "outputs": [],
   "source": [
    "def mannwhitney(descriptor, verbose=False):\n",
    "  # https://machinelearningmastery.com/nonparametric-statistical-significance-tests-in-python/\n",
    "  from numpy.random import seed\n",
    "  from numpy.random import randn\n",
    "  from scipy.stats import mannwhitneyu\n",
    "\n",
    "# seed the random number generator\n",
    "  seed(1)\n",
    "\n",
    "# actives and inactives\n",
    "  selection = [descriptor, 'bioactivity_class']\n",
    "  df = df_2class[selection]\n",
    "  active = df[df['bioactivity_class'] == 'active']\n",
    "  active = active[descriptor]\n",
    "\n",
    "  selection = [descriptor, 'bioactivity_class']\n",
    "  df = df_2class[selection]\n",
    "  inactive = df[df['bioactivity_class'] == 'inactive']\n",
    "  inactive = inactive[descriptor]\n",
    "\n",
    "# compare samples\n",
    "  stat, p = mannwhitneyu(active, inactive)\n",
    "  # print('Statistics=%.3f, p=%.3f' % (stat, p))\n",
    "\n",
    "# interpret\n",
    "  alpha = 0.05\n",
    "  if p > alpha:\n",
    "    interpretation = 'Same distribution (fail to reject H0)'\n",
    "  else:\n",
    "    interpretation = 'Different distribution (reject H0)'\n",
    "  \n",
    "  results = pd.DataFrame({'Descriptor':descriptor,\n",
    "                          'Statistics':stat,\n",
    "                          'p':p,\n",
    "                          'alpha':alpha,\n",
    "                          'Interpretation':interpretation}, index=[0])\n",
    "  filename = 'mannwhitneyu_' + descriptor + '.csv'\n",
    "  # results.to_csv(filename)\n",
    "\n",
    "  return results"
   ]
  },
  {
   "cell_type": "code",
   "execution_count": 65,
   "metadata": {},
   "outputs": [
    {
     "data": {
      "text/html": [
       "<div>\n",
       "<style scoped>\n",
       "    .dataframe tbody tr th:only-of-type {\n",
       "        vertical-align: middle;\n",
       "    }\n",
       "\n",
       "    .dataframe tbody tr th {\n",
       "        vertical-align: top;\n",
       "    }\n",
       "\n",
       "    .dataframe thead th {\n",
       "        text-align: right;\n",
       "    }\n",
       "</style>\n",
       "<table border=\"1\" class=\"dataframe\">\n",
       "  <thead>\n",
       "    <tr style=\"text-align: right;\">\n",
       "      <th></th>\n",
       "      <th>Descriptor</th>\n",
       "      <th>Statistics</th>\n",
       "      <th>p</th>\n",
       "      <th>alpha</th>\n",
       "      <th>Interpretation</th>\n",
       "    </tr>\n",
       "  </thead>\n",
       "  <tbody>\n",
       "    <tr>\n",
       "      <th>0</th>\n",
       "      <td>pIC50</td>\n",
       "      <td>1545.0</td>\n",
       "      <td>4.428384e-10</td>\n",
       "      <td>0.05</td>\n",
       "      <td>Different distribution (reject H0)</td>\n",
       "    </tr>\n",
       "  </tbody>\n",
       "</table>\n",
       "</div>"
      ],
      "text/plain": [
       "  Descriptor  Statistics             p  alpha  \\\n",
       "0      pIC50      1545.0  4.428384e-10   0.05   \n",
       "\n",
       "                       Interpretation  \n",
       "0  Different distribution (reject H0)  "
      ]
     },
     "execution_count": 65,
     "metadata": {},
     "output_type": "execute_result"
    }
   ],
   "source": [
    "mannwhitney('pIC50')"
   ]
  },
  {
   "cell_type": "markdown",
   "metadata": {},
   "source": [
    "#### **MW**"
   ]
  },
  {
   "cell_type": "code",
   "execution_count": 67,
   "metadata": {},
   "outputs": [
    {
     "data": {
      "text/plain": [
       "Text(0, 0.5, 'MW')"
      ]
     },
     "execution_count": 67,
     "metadata": {},
     "output_type": "execute_result"
    },
    {
     "data": {
      "image/png": "[encoded data removed]",
      "text/plain": [
       "<Figure size 550x550 with 1 Axes>"
      ]
     },
     "metadata": {},
     "output_type": "display_data"
    }
   ],
   "source": [
    "plt.figure(figsize=(5.5, 5.5))\n",
    "\n",
    "sns.boxplot(x = 'bioactivity_class', y = 'MW', data = df_2class)\n",
    "\n",
    "plt.xlabel('bioactivity_class', fontsize=14, fontweight='bold')\n",
    "plt.ylabel('MW', fontsize=14, fontweight='bold')\n",
    "\n",
    "# plt.savefig('plot_MW.pdf')"
   ]
  },
  {
   "cell_type": "code",
   "execution_count": 68,
   "metadata": {},
   "outputs": [
    {
     "data": {
      "text/html": [
       "<div>\n",
       "<style scoped>\n",
       "    .dataframe tbody tr th:only-of-type {\n",
       "        vertical-align: middle;\n",
       "    }\n",
       "\n",
       "    .dataframe tbody tr th {\n",
       "        vertical-align: top;\n",
       "    }\n",
       "\n",
       "    .dataframe thead th {\n",
       "        text-align: right;\n",
       "    }\n",
       "</style>\n",
       "<table border=\"1\" class=\"dataframe\">\n",
       "  <thead>\n",
       "    <tr style=\"text-align: right;\">\n",
       "      <th></th>\n",
       "      <th>Descriptor</th>\n",
       "      <th>Statistics</th>\n",
       "      <th>p</th>\n",
       "      <th>alpha</th>\n",
       "      <th>Interpretation</th>\n",
       "    </tr>\n",
       "  </thead>\n",
       "  <tbody>\n",
       "    <tr>\n",
       "      <th>0</th>\n",
       "      <td>MW</td>\n",
       "      <td>408.5</td>\n",
       "      <td>0.003313</td>\n",
       "      <td>0.05</td>\n",
       "      <td>Different distribution (reject H0)</td>\n",
       "    </tr>\n",
       "  </tbody>\n",
       "</table>\n",
       "</div>"
      ],
      "text/plain": [
       "  Descriptor  Statistics         p  alpha                      Interpretation\n",
       "0         MW       408.5  0.003313   0.05  Different distribution (reject H0)"
      ]
     },
     "execution_count": 68,
     "metadata": {},
     "output_type": "execute_result"
    }
   ],
   "source": [
    "mannwhitney('MW')"
   ]
  },
  {
   "cell_type": "markdown",
   "metadata": {},
   "source": [
    "#### **LogP**"
   ]
  },
  {
   "cell_type": "code",
   "execution_count": 69,
   "metadata": {},
   "outputs": [
    {
     "data": {
      "text/plain": [
       "Text(0, 0.5, 'LogP')"
      ]
     },
     "execution_count": 69,
     "metadata": {},
     "output_type": "execute_result"
    },
    {
     "data": {
      "image/png": "[encoded data removed]",
      "text/plain": [
       "<Figure size 550x550 with 1 Axes>"
      ]
     },
     "metadata": {},
     "output_type": "display_data"
    }
   ],
   "source": [
    "plt.figure(figsize=(5.5, 5.5))\n",
    "\n",
    "sns.boxplot(x = 'bioactivity_class', y = 'LogP', data = df_2class)\n",
    "\n",
    "plt.xlabel('Bioactivity class', fontsize=14, fontweight='bold')\n",
    "plt.ylabel('LogP', fontsize=14, fontweight='bold')\n",
    "\n",
    "# plt.savefig('plot_LogP.pdf')"
   ]
  },
  {
   "cell_type": "markdown",
   "metadata": {},
   "source": [
    "**Statistical analysis | Mann-Whitney U Test**"
   ]
  },
  {
   "cell_type": "code",
   "execution_count": 70,
   "metadata": {},
   "outputs": [
    {
     "data": {
      "text/html": [
       "<div>\n",
       "<style scoped>\n",
       "    .dataframe tbody tr th:only-of-type {\n",
       "        vertical-align: middle;\n",
       "    }\n",
       "\n",
       "    .dataframe tbody tr th {\n",
       "        vertical-align: top;\n",
       "    }\n",
       "\n",
       "    .dataframe thead th {\n",
       "        text-align: right;\n",
       "    }\n",
       "</style>\n",
       "<table border=\"1\" class=\"dataframe\">\n",
       "  <thead>\n",
       "    <tr style=\"text-align: right;\">\n",
       "      <th></th>\n",
       "      <th>Descriptor</th>\n",
       "      <th>Statistics</th>\n",
       "      <th>p</th>\n",
       "      <th>alpha</th>\n",
       "      <th>Interpretation</th>\n",
       "    </tr>\n",
       "  </thead>\n",
       "  <tbody>\n",
       "    <tr>\n",
       "      <th>0</th>\n",
       "      <td>LogP</td>\n",
       "      <td>712.5</td>\n",
       "      <td>0.630683</td>\n",
       "      <td>0.05</td>\n",
       "      <td>Same distribution (fail to reject H0)</td>\n",
       "    </tr>\n",
       "  </tbody>\n",
       "</table>\n",
       "</div>"
      ],
      "text/plain": [
       "  Descriptor  Statistics         p  alpha  \\\n",
       "0       LogP       712.5  0.630683   0.05   \n",
       "\n",
       "                          Interpretation  \n",
       "0  Same distribution (fail to reject H0)  "
      ]
     },
     "execution_count": 70,
     "metadata": {},
     "output_type": "execute_result"
    }
   ],
   "source": [
    "mannwhitney('LogP')"
   ]
  },
  {
   "cell_type": "markdown",
   "metadata": {},
   "source": [
    "#### **NumHDonors**"
   ]
  },
  {
   "cell_type": "code",
   "execution_count": 71,
   "metadata": {},
   "outputs": [
    {
     "data": {
      "image/png": "[encoded data removed]",
      "text/plain": [
       "<Figure size 550x550 with 1 Axes>"
      ]
     },
     "metadata": {},
     "output_type": "display_data"
    }
   ],
   "source": [
    "plt.figure(figsize=(5.5, 5.5))\n",
    "\n",
    "sns.boxplot(x = 'bioactivity_class', y = 'NumHDonors', data = df_2class)\n",
    "\n",
    "plt.xlabel('Bioactivity class', fontsize=14, fontweight='bold')\n",
    "plt.ylabel('NumHDonors', fontsize=14, fontweight='bold')\n",
    "\n",
    "# plt.savefig('plot_NumHDonors.pdf')"
   ]
  },
  {
   "cell_type": "markdown",
   "metadata": {},
   "source": [
    "**Statistical analysis | Mann-Whitney U Test**"
   ]
  },
  {
   "cell_type": "code",
   "execution_count": 72,
   "metadata": {},
   "outputs": [
    {
     "data": {
      "text/html": [
       "<div>\n",
       "<style scoped>\n",
       "    .dataframe tbody tr th:only-of-type {\n",
       "        vertical-align: middle;\n",
       "    }\n",
       "\n",
       "    .dataframe tbody tr th {\n",
       "        vertical-align: top;\n",
       "    }\n",
       "\n",
       "    .dataframe thead th {\n",
       "        text-align: right;\n",
       "    }\n",
       "</style>\n",
       "<table border=\"1\" class=\"dataframe\">\n",
       "  <thead>\n",
       "    <tr style=\"text-align: right;\">\n",
       "      <th></th>\n",
       "      <th>Descriptor</th>\n",
       "      <th>Statistics</th>\n",
       "      <th>p</th>\n",
       "      <th>alpha</th>\n",
       "      <th>Interpretation</th>\n",
       "    </tr>\n",
       "  </thead>\n",
       "  <tbody>\n",
       "    <tr>\n",
       "      <th>0</th>\n",
       "      <td>NumHDonors</td>\n",
       "      <td>298.5</td>\n",
       "      <td>0.000053</td>\n",
       "      <td>0.05</td>\n",
       "      <td>Different distribution (reject H0)</td>\n",
       "    </tr>\n",
       "  </tbody>\n",
       "</table>\n",
       "</div>"
      ],
      "text/plain": [
       "   Descriptor  Statistics         p  alpha                      Interpretation\n",
       "0  NumHDonors       298.5  0.000053   0.05  Different distribution (reject H0)"
      ]
     },
     "execution_count": 72,
     "metadata": {},
     "output_type": "execute_result"
    }
   ],
   "source": [
    "mannwhitney('NumHDonors')"
   ]
  },
  {
   "cell_type": "markdown",
   "metadata": {},
   "source": [
    "#### **NumHAcceptors**"
   ]
  },
  {
   "cell_type": "code",
   "execution_count": 73,
   "metadata": {},
   "outputs": [
    {
     "data": {
      "image/png": "[encoded data removed]",
      "text/plain": [
       "<Figure size 550x550 with 1 Axes>"
      ]
     },
     "metadata": {},
     "output_type": "display_data"
    }
   ],
   "source": [
    "plt.figure(figsize=(5.5, 5.5))\n",
    "\n",
    "sns.boxplot(x = 'bioactivity_class', y = 'NumHAcceptors', data = df_2class)\n",
    "\n",
    "plt.xlabel('Bioactivity class', fontsize=14, fontweight='bold')\n",
    "plt.ylabel('NumHAcceptors', fontsize=14, fontweight='bold')\n",
    "\n",
    "# plt.savefig('plot_NumHAcceptors.pdf')"
   ]
  },
  {
   "cell_type": "code",
   "execution_count": 74,
   "metadata": {},
   "outputs": [
    {
     "data": {
      "text/html": [
       "<div>\n",
       "<style scoped>\n",
       "    .dataframe tbody tr th:only-of-type {\n",
       "        vertical-align: middle;\n",
       "    }\n",
       "\n",
       "    .dataframe tbody tr th {\n",
       "        vertical-align: top;\n",
       "    }\n",
       "\n",
       "    .dataframe thead th {\n",
       "        text-align: right;\n",
       "    }\n",
       "</style>\n",
       "<table border=\"1\" class=\"dataframe\">\n",
       "  <thead>\n",
       "    <tr style=\"text-align: right;\">\n",
       "      <th></th>\n",
       "      <th>Descriptor</th>\n",
       "      <th>Statistics</th>\n",
       "      <th>p</th>\n",
       "      <th>alpha</th>\n",
       "      <th>Interpretation</th>\n",
       "    </tr>\n",
       "  </thead>\n",
       "  <tbody>\n",
       "    <tr>\n",
       "      <th>0</th>\n",
       "      <td>NumHAcceptors</td>\n",
       "      <td>414.0</td>\n",
       "      <td>0.003402</td>\n",
       "      <td>0.05</td>\n",
       "      <td>Different distribution (reject H0)</td>\n",
       "    </tr>\n",
       "  </tbody>\n",
       "</table>\n",
       "</div>"
      ],
      "text/plain": [
       "      Descriptor  Statistics         p  alpha  \\\n",
       "0  NumHAcceptors       414.0  0.003402   0.05   \n",
       "\n",
       "                       Interpretation  \n",
       "0  Different distribution (reject H0)  "
      ]
     },
     "execution_count": 74,
     "metadata": {},
     "output_type": "execute_result"
    }
   ],
   "source": [
    "mannwhitney('NumHAcceptors')"
   ]
  },
  {
   "cell_type": "markdown",
   "metadata": {},
   "source": [
    "#### **Interpretation of Statistical Results**"
   ]
  },
  {
   "cell_type": "markdown",
   "metadata": {},
   "source": [
    "##### **Box Plots**\n",
    "\n",
    "###### **pIC50 values**\n",
    "\n",
    "Taking a look at pIC50 values, the **actives** and **inactives** displayed ***statistically significant difference***, which is to be expected since threshold values (``IC50 < 1,000 nM = Actives while IC50 > 10,000 nM = Inactives``, corresponding to ``pIC50 > 6 = Actives and pIC50 < 5 = Inactives``) were used to define actives and inactives.\n",
    "\n",
    "###### **Lipinski's descriptors**\n",
    "\n",
    "All of the 4 Lipinski's descriptors exhibited ***statistically significant difference*** between the **actives** and **inactives**."
   ]
  }
 ],
 "metadata": {
  "kernelspec": {
   "display_name": "drug3.7",
   "language": "python",
   "name": "python3"
  },
  "language_info": {
   "codemirror_mode": {
    "name": "ipython",
    "version": 3
   },
   "file_extension": ".py",
   "mimetype": "text/x-python",
   "name": "python",
   "nbconvert_exporter": "python",
   "pygments_lexer": "ipython3",
   "version": "3.10.13"
  }
 },
 "nbformat": 4,
 "nbformat_minor": 2
}
